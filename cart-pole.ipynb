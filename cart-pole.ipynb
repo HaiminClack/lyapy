{
 "cells": [
  {
   "cell_type": "code",
   "execution_count": 1,
   "metadata": {},
   "outputs": [],
   "source": [
    "from matplotlib.pyplot import figure, grid, legend, plot, show, xlabel\n",
    "from numpy import array, concatenate, cos, linspace, sin, zeros\n",
    "from numpy.linalg import solve\n",
    "\n",
    "from main import AffineDynamics, FBLinController, RoboticDynamics, SystemDynamics"
   ]
  },
  {
   "cell_type": "markdown",
   "metadata": {},
   "source": [
    "$\\newcommand{\\mb}[1]{\\mathbf{ #1 }}$\n",
    "$\\newcommand{\\bs}[1]{\\boldsymbol{ #1 }}$\n",
    "$\\newcommand{\\norm}[1]{\\left\\Vert #1 \\right\\Vert}$\n",
    "$\\newcommand{\\der}[2]{\\frac{\\mathrm{d} #1 }{\\mathrm{d} #2}}$\n",
    "$\\newcommand{\\derp}[2]{\\frac{\\partial #1 }{\\partial #2}}$\n",
    "$\\newcommand{\\bb}[1]{\\mathbb{ #1 }}$\n",
    "$\\newcommand{\\R}{\\bb{R}}$\n",
    "\n",
    "# Cart-Pole Simulation\n",
    "\n",
    "Consider a cart-pole system specified as follows:\n",
    "\n",
    "- A cart of mass $M$ moves on a frictionless track with horizontal force as control input.\n",
    "- A massless rod of length $l$ is attached to a frictionless joint above the cart center-of-mass.\n",
    "- A point mass $m$ is attached to the other end of the rod.\n",
    "\n",
    "We measure horizontal position, $x$, velocity, $\\dot{x}$, angle from upright, $\\theta$, and angular rate, $\\dot{\\theta}$. We would like to stabilize the cart upright; that is, we would like to drive $\\theta \\to 0$.\n",
    "\n",
    "Let the position of the cart and point mass be $\\mb{r}_c = (x, 0)$ and $\\mb{r}_p = (x + l\\sin{\\theta}, l\\cos{\\theta})$, respectively, in an inertial frame. The total kinetic energy of the system is:\n",
    "\n",
    "\\begin{align}\n",
    "    K &= \\frac{1}{2} M \\norm{\\dot{\\mb{r}}_c}^2 + \\frac{1}{2} m \\norm{\\dot{\\mb{r}}_p}^2\\\\\n",
    "    &= \\frac{1}{2} M \\dot{x}^2 + \\frac{1}{2}m (\\dot{x}^2 + 2l\\dot{x}\\dot{\\theta}\\cos{\\theta} +l^2\\dot{\\theta}^2\\cos^2{\\theta} + l^2\\dot{\\theta}^2\\sin^2{\\theta})^2\\\\\n",
    "    &= \\frac{1}{2}(M + m)\\dot{x}^2 + ml\\dot{x}\\dot{\\theta}\\cos{\\theta} + \\frac{1}{2}ml^2\\dot{\\theta}^2,\n",
    "\\end{align}\n",
    "\n",
    "and the potential energy of the system is $U = mgl\\cos{\\theta}$, yielding Lagrangian:\n",
    "\n",
    "\\begin{equation}\n",
    "    L = K - U = \\frac{1}{2}(M + m)\\dot{x}^2 + ml\\dot{x}\\dot{\\theta}\\cos{\\theta} + \\frac{1}{2}ml^2\\dot{\\theta}^2 - mgl\\cos{\\theta}.\n",
    "\\end{equation}"
   ]
  },
  {
   "cell_type": "markdown",
   "metadata": {},
   "source": [
    "With generalized coordinates $\\mb{q} = (x, \\theta)$ and generalized force $F$, we have:\n",
    "\n",
    "\\begin{align}\n",
    "    \\der{}{t}\\derp{L}{\\dot{\\mb{q}}} - \\derp{L}{\\mb{q}} &= \\der{}{t}\\begin{bmatrix} (M + m)\\dot{x} + ml\\dot{\\theta}\\cos{\\theta} \\\\ ml\\dot{x}\\cos{\\theta} + ml^2\\dot{\\theta} \\end{bmatrix} - \\begin{bmatrix} 0 \\\\ -ml\\dot{x}\\dot{\\theta}\\sin{\\theta} + mgl\\sin{\\theta} \\end{bmatrix}\\\\\n",
    "    &= \\begin{bmatrix} (M + m)\\ddot{x} + ml\\ddot{\\theta}\\cos{\\theta} - ml\\dot{\\theta}^2\\sin{\\theta} \\\\ ml\\ddot{x}\\cos{\\theta} - ml\\dot{x}\\dot{\\theta}\\sin{\\theta} + ml^2\\ddot{\\theta} \\end{bmatrix} - \\begin{bmatrix} 0 \\\\ -ml\\dot{x}\\dot{\\theta}\\sin{\\theta} + mgl\\sin{\\theta} \\end{bmatrix}\\\\\n",
    "    &= \\underbrace{\\begin{bmatrix} M + m & ml\\cos{\\theta} \\\\ ml\\cos{\\theta} & ml^2 \\end{bmatrix}}_{\\mb{D}(\\mb{q})} \\underbrace{\\begin{bmatrix} \\ddot{x} \\\\ \\ddot{\\theta} \\end{bmatrix}}_{\\ddot{\\mb{q}}} + \\underbrace{\\begin{bmatrix} - ml\\dot{\\theta}^2\\sin{\\theta} \\\\ - mgl\\sin{\\theta} \\end{bmatrix}}_{\\mb{H}(\\mb{q}, \\dot{\\mb{q}})} = \\underbrace{\\begin{bmatrix} 1 \\\\ 0 \\end{bmatrix}}_{\\mb{B}} \\underbrace{F}_{\\mb{u}},\n",
    "\\end{align}\n",
    "\n",
    "or as a first-order system:\n",
    "\n",
    "\\begin{equation}\n",
    "    \\underbrace{\\der{}{t}\\begin{bmatrix} \\mb{q} \\\\ \\dot{\\mb{q}} \\end{bmatrix}}_{\\dot{\\mb{x}}} = \\underbrace{\\begin{bmatrix} \\dot{\\mb{q}} \\\\ -\\mb{D}(\\mb{q})^{-1}\\mb{H}(\\mb{q}, \\dot{\\mb{q}}) \\end{bmatrix}}_{\\mb{f}(\\mb{x})} + \\underbrace{\\begin{bmatrix} \\mb{0}_{2 \\times 1} \\\\ \\mb{D}(\\mb{q})^{-1}\\mb{B} \\end{bmatrix}}_{\\mb{g}(\\mb{x})}\\mb{u}\n",
    "\\end{equation}\n",
    "\n",
    "where state $\\mb{x} = (\\mb{q}, \\dot{\\mb{q}}) = (x, \\theta, \\dot{x}, \\dot{\\theta})$. Since $\\det{(\\mb{D}(\\mb{q}))} = (M + m)ml^2 - (ml\\cos{\\theta})^2 = Mml^2 + m^2l^2\\left(1 - \\cos^2{\\theta}\\right) > 0$ for all $\\mb{q} \\in \\R^2$, $\\mb{D}(\\mb{q})$ is invertible for all $\\mb{q} \\in \\R^2$ and the dynamics are well-defined in first-order form."
   ]
  },
  {
   "cell_type": "code",
   "execution_count": 2,
   "metadata": {},
   "outputs": [],
   "source": [
    "class CartPoleSystem(SystemDynamics, AffineDynamics):\n",
    "    def __init__(self, M, m, l, g=9.81):\n",
    "        SystemDynamics.__init__(self, 4, 1)\n",
    "        self.params = M, m, l, g\n",
    "        self.B = array([[1], [0]])\n",
    "    \n",
    "    def D(self, q):\n",
    "        _, theta = q\n",
    "        M, m, l, _ = self.params\n",
    "        return array([[M + m, m * l * cos(theta)], [m * l * cos(theta), m * (l ** 2)]])\n",
    "    \n",
    "    def H(self, q, q_dot):\n",
    "        _, theta = q\n",
    "        _, theta_dot = q_dot\n",
    "        _, m, l, g = self.params\n",
    "        return array([-m * l * (theta_dot ** 2) * sin(theta), m * g * l * sin(theta)])\n",
    "    \n",
    "    def drift(self, x, t):\n",
    "        x, theta, x_dot, theta_dot = x\n",
    "        q = x, theta\n",
    "        q_dot = x_dot, theta_dot\n",
    "        return concatenate([q_dot, -solve(self.D(q), self.H(q, q_dot))])\n",
    "    \n",
    "    def act(self, x, t):\n",
    "        x, theta, _, _ = x\n",
    "        q = x, theta\n",
    "        return concatenate([zeros((2, 1)), solve(self.D(q), self.B)])"
   ]
  },
  {
   "cell_type": "markdown",
   "metadata": {},
   "source": [
    "Our primary objective is to drive $\\theta \\to 0$. Let normal form transformation $\\bs{\\Phi}: \\R^4 \\to \\R^4$ satisfy:\n",
    "\n",
    "\\begin{equation}\n",
    "    \\bs{\\Phi}(\\mb{x}) = \\begin{bmatrix} \\theta \\\\ \\dot{\\theta} \\\\ z_1 \\\\ z_2 \\end{bmatrix},\n",
    "\\end{equation}\n",
    "\n",
    "where $\\mb{z} = (z_1, z_2)$ are zero-dynamics coordinates that satisfy:\n",
    "\n",
    "\\begin{equation}\n",
    "    \\derp{\\mb{z}}{\\mb{x}}\\mb{g}(\\mb{x}) = \\begin{bmatrix} \\derp{\\mb{z}}{\\mb{q}} & \\derp{\\mb{z}}{\\dot{\\mb{q}}} \\end{bmatrix}\\begin{bmatrix} \\mb{0}_{2 \\times 1} \\\\ \\mb{D}^{-1}(\\mb{q})\\mb{B} \\end{bmatrix} = \\derp{\\mb{z}}{\\dot{\\mb{q}}}\\mb{D}(\\mb{q})^{-1}\\mb{B} = \\mb{0}_2.\n",
    "\\end{equation}\n",
    "\n",
    "Picking:\n",
    "\n",
    "\\begin{equation}\n",
    "    \\bs{\\Phi}(\\mb{x}) = \\begin{bmatrix} \\theta \\\\ \\dot{\\theta} \\\\ x \\\\ e_2^\\top\\mb{D}(\\mb{q})\\dot{\\mb{q}} \\end{bmatrix} = \\begin{bmatrix} \\theta \\\\ \\dot{\\theta} \\\\ x \\\\ ml\\dot{x}\\cos{\\theta} + ml^2\\dot{\\theta} \\end{bmatrix},\n",
    "\\end{equation}\n",
    "\n",
    "where $e_2 = (0, 1)$, satisfies this criterion since:\n",
    "\n",
    "\\begin{equation}\n",
    "    \\derp{\\mb{z}}{\\mb{x}}\\mb{g}(\\mb{x}) = \\begin{bmatrix} \\derp{z_1}{\\dot{\\mb{q}}} \\\\ \\derp{z_2}{\\dot{\\mb{q}}} \\end{bmatrix}\\mb{D}(\\mb{q})^{-1}\\mb{B} = \\begin{bmatrix} \\mb{0}_2^\\top \\\\ \\mb{e}_2^\\top\\mb{D}(\\mb{q}) \\end{bmatrix}\\mb{D}(\\mb{q})^{-1}\\mb{B} = \\begin{bmatrix} 0 \\\\ \\mb{e}_2^\\top\\mb{B} \\end{bmatrix} = \\mb{0}_2.\n",
    "\\end{equation}\n",
    "\n",
    "Additionally, note that:\n",
    "\n",
    "\\begin{equation}\n",
    "    \\derp{\\bs{\\Phi}}{\\mb{x}} = \\begin{bmatrix} 0 & 1 & 0 & 0 \\\\ 0 & 0 & 0 & 1 \\\\ 1 & 0 & 0 & 0 \\\\ 0 & -ml\\dot{x}\\sin{\\theta} & ml\\cos{\\theta} & ml^2 \\end{bmatrix},\n",
    "\\end{equation}\n",
    "\n",
    "which is full rank for all $\\theta \\in (-\\frac{\\pi}{2}, \\frac{\\pi}{2})$. By the inverse function theorem, around each point in $\\mathcal{D} = \\R \\times (-\\frac{\\pi}{2}, \\frac{\\pi}{2}) \\times \\R^2$ is an open neighborhood such that $\\bs{\\Phi}$ is a diffeomorphism on the neighborhood. Therefore, we do not lose any state or dynamics information by using this transformation."
   ]
  },
  {
   "cell_type": "markdown",
   "metadata": {},
   "source": [
    "However, the zero-dynamics associated with this transformation can be unstable. First, note that:\n",
    "\n",
    "\\begin{equation}\n",
    "    \\dot{\\mb{z}} = \\begin{bmatrix} \\dot{x} \\\\ ml\\ddot{x}\\cos{\\theta} - ml\\dot{x}\\dot{\\theta}\\sin{\\theta} + ml^2\\ddot{\\theta} \\end{bmatrix},\n",
    "\\end{equation}\n",
    "\n",
    "and in particular:\n",
    "\n",
    "\\begin{equation}\n",
    "    \\dot{z}_1 = \\frac{z_2 - ml^2\\dot{\\theta}}{ml\\cos{\\theta}},\n",
    "\\end{equation}\n",
    "\n",
    "for all $\\mb{x} \\in \\cal{D}$. Now suppose $\\theta, \\dot{\\theta} = 0$. Then:\n",
    "\n",
    "\\begin{equation}\n",
    "    \\dot{z}_2 = ml\\ddot{x} + ml^2\\ddot{\\theta} = e_2^\\top\\mb{D}(\\mb{q})\\ddot{\\mb{q}} = e_2^\\top(-\\mb{H}(\\mb{q}, \\dot{\\mb{q}}) + \\mb{B}\\mb{u}) = 0.\n",
    "\\end{equation}\n",
    "\n",
    "Therefore:\n",
    "\n",
    "\\begin{equation}\n",
    "    \\dot{\\mb{z}} = \\begin{bmatrix} \\frac{z_2}{ml} \\\\ 0 \\end{bmatrix} = \\begin{bmatrix}0 & \\frac{1}{ml} \\\\ 0 & 0\\end{bmatrix}\\mb{z},\n",
    "\\end{equation}\n",
    "\n",
    "when $\\theta, \\dot{\\theta} = 0$. This means if $z_2 \\neq 0$ when $\\theta, \\dot{\\theta} = 0$, then $z_1$ will grow unbounded. This occurs if $ml\\dot{x} \\neq 0$ when $\\theta, \\dot{\\theta} = 0$."
   ]
  },
  {
   "cell_type": "markdown",
   "metadata": {},
   "source": [
    "Therefore, we must instead design and track a trajectory with $\\dot{x} \\to 0$ as $\\theta \\to 0$."
   ]
  },
  {
   "cell_type": "code",
   "execution_count": 3,
   "metadata": {},
   "outputs": [],
   "source": [
    "class CartPoleOutput(RoboticDynamics):\n",
    "    def __init__(self, system, r, r_dot):\n",
    "        RoboticDynamics.__init__(self, 1)\n",
    "        self.system = system\n",
    "        self.r = r\n",
    "        self.r_dot = r_dot\n",
    "        \n",
    "    def select_output(self, arr):\n",
    "        return arr[array([1, 3])]\n",
    "    \n",
    "    def eval(self, x, t):\n",
    "        return self.select_output(x) - self.r(t)\n",
    "    \n",
    "    def drift(self, x, t):\n",
    "        return self.select_output(self.system.drift(x, t)) - self.r_dot(t)\n",
    "        \n",
    "    def act(self, x, t):\n",
    "        return self.select_output(self.system.act(x, t))"
   ]
  },
  {
   "cell_type": "code",
   "execution_count": 6,
   "metadata": {},
   "outputs": [],
   "source": [
    "M, m, l, g = 1, 0.25, 0.5, 9.81\n",
    "system = CartPoleSystem(M, m, l, g)\n",
    "\n",
    "r = lambda t: zeros(2)\n",
    "r_dot = lambda t: zeros(2)\n",
    "output = CartPoleOutput(system, r, r_dot)\n",
    "\n",
    "k_p, k_d = 10, 10\n",
    "K = array([[k_p, k_d]])\n",
    "controller = FBLinController(output, K)\n",
    "\n",
    "x_0 = array([0, 1, 0, 0])\n",
    "ts = linspace(0, 10, 1000)\n",
    "xs, _ = system.simulate(x_0, controller, ts)"
   ]
  },
  {
   "cell_type": "code",
   "execution_count": 7,
   "metadata": {},
   "outputs": [
    {
     "data": {
      "image/png": "[encoded data removed]",
      "text/plain": [
       "<Figure size 432x288 with 1 Axes>"
      ]
     },
     "metadata": {
      "needs_background": "light"
     },
     "output_type": "display_data"
    },
    {
     "data": {
      "image/png": "[encoded data removed]",
      "text/plain": [
       "<Figure size 432x288 with 1 Axes>"
      ]
     },
     "metadata": {
      "needs_background": "light"
     },
     "output_type": "display_data"
    }
   ],
   "source": [
    "figure()\n",
    "plot(ts, xs[:, 1], linewidth=3, label='$\\\\theta$')\n",
    "grid()\n",
    "legend(fontsize=16)\n",
    "xlabel('Time (sec)', fontsize=16)\n",
    "\n",
    "figure()\n",
    "plot(ts, xs[:, 0], linewidth=3, label='$x$')\n",
    "grid()\n",
    "legend(fontsize=16)\n",
    "xlabel('Time (sec)', fontsize=16)\n",
    "\n",
    "show()"
   ]
  }
 ],
 "metadata": {
  "kernelspec": {
   "display_name": "Virtual Environment",
   "language": "python",
   "name": ".venv"
  },
  "language_info": {
   "codemirror_mode": {
    "name": "ipython",
    "version": 3
   },
   "file_extension": ".py",
   "mimetype": "text/x-python",
   "name": "python",
   "nbconvert_exporter": "python",
   "pygments_lexer": "ipython3",
   "version": "3.5.2"
  }
 },
 "nbformat": 4,
 "nbformat_minor": 2
}
